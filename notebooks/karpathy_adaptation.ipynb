{
  "cells": [
    {
      "cell_type": "code",
      "execution_count": 3,
      "metadata": {
        "id": "ONtCz7LTkBvk"
      },
      "outputs": [],
      "source": [
        "import math\n",
        "import random\n",
        "import numpy as np\n",
        "import matplotlib.pyplot as plt\n",
        "import time\n",
        "%matplotlib inline"
      ]
    },
    {
      "cell_type": "code",
      "execution_count": 4,
      "metadata": {
        "id": "6RKd10AikBvn"
      },
      "outputs": [],
      "source": [
        "class Value:\n",
        "\n",
        "  def __init__(self, data, _children=(), _op='', label=''):\n",
        "    self.data = data\n",
        "    self.grad = 0.0\n",
        "    self._backward = lambda: None\n",
        "    self._prev = set(_children)\n",
        "    self._op = _op\n",
        "    self.label = label\n",
        "\n",
        "  def __repr__(self):\n",
        "    return f\"Value(data={self.data})\"\n",
        "\n",
        "  def __add__(self, other):\n",
        "    other = other if isinstance(other, Value) else Value(other)\n",
        "    out = Value(self.data + other.data, (self, other), '+')\n",
        "\n",
        "    def _backward():\n",
        "      self.grad += 1.0 * out.grad\n",
        "      other.grad += 1.0 * out.grad\n",
        "    out._backward = _backward\n",
        "\n",
        "    return out\n",
        "\n",
        "  def __mul__(self, other):\n",
        "    other = other if isinstance(other, Value) else Value(other)\n",
        "    out = Value(self.data * other.data, (self, other), '*')\n",
        "\n",
        "    def _backward():\n",
        "      self.grad += other.data * out.grad\n",
        "      other.grad += self.data * out.grad\n",
        "    out._backward = _backward\n",
        "\n",
        "    return out\n",
        "\n",
        "  def __pow__(self, other):\n",
        "    assert isinstance(other, (int, float)), \"only supporting int/float powers for now\"\n",
        "    out = Value(self.data**other, (self,), f'**{other}')\n",
        "\n",
        "    def _backward():\n",
        "        self.grad += other * (self.data ** (other - 1)) * out.grad\n",
        "    out._backward = _backward\n",
        "\n",
        "    return out\n",
        "\n",
        "  def __rmul__(self, other): # other * self\n",
        "    return self * other\n",
        "\n",
        "  def __truediv__(self, other): # self / other\n",
        "    return self * other**-1\n",
        "\n",
        "  def __neg__(self): # -self\n",
        "    return self * -1\n",
        "\n",
        "  def __sub__(self, other): # self - other\n",
        "    return self + (-other)\n",
        "\n",
        "  def __radd__(self, other): # other + self\n",
        "    return self + other\n",
        "\n",
        "  def tanh(self):\n",
        "    x = self.data\n",
        "    t = (math.exp(2*x) - 1)/(math.exp(2*x) + 1)\n",
        "    out = Value(t, (self, ), 'tanh')\n",
        "\n",
        "    def _backward():\n",
        "      self.grad += (1 - t**2) * out.grad\n",
        "    out._backward = _backward\n",
        "\n",
        "    return out\n",
        "\n",
        "  def exp(self):\n",
        "    x = self.data\n",
        "    out = Value(math.exp(x), (self, ), 'exp')\n",
        "\n",
        "    def _backward():\n",
        "      self.grad += out.data * out.grad # NOTE: in the video I incorrectly used = instead of +=. Fixed here.\n",
        "    out._backward = _backward\n",
        "\n",
        "    return out\n",
        "\n",
        "\n",
        "  def backward(self):\n",
        "\n",
        "    topo = []\n",
        "    visited = set()\n",
        "    def build_topo(v):\n",
        "      if v not in visited:\n",
        "        visited.add(v)\n",
        "        for child in v._prev:\n",
        "          build_topo(child)\n",
        "        topo.append(v)\n",
        "    build_topo(self)\n",
        "\n",
        "    self.grad = 1.0\n",
        "    for node in reversed(topo):\n",
        "      node._backward()\n",
        "\n"
      ]
    },
    {
      "cell_type": "code",
      "execution_count": 93,
      "metadata": {
        "id": "3U_U1_makBvn"
      },
      "outputs": [],
      "source": [
        "from graphviz import Digraph\n",
        "\n",
        "def trace(root):\n",
        "  # builds a set of all nodes and edges in a graph\n",
        "  nodes, edges = set(), set()\n",
        "  def build(v):\n",
        "    if v not in nodes:\n",
        "      nodes.add(v)\n",
        "      for child in v._prev:\n",
        "        edges.add((child, v))\n",
        "        build(child)\n",
        "  build(root)\n",
        "  return nodes, edges\n",
        "\n",
        "def draw_dot(root):\n",
        "  dot = Digraph(format='svg', graph_attr={'rankdir': 'LR'}) # LR = left to right\n",
        "\n",
        "  nodes, edges = trace(root)\n",
        "  for n in nodes:\n",
        "    uid = str(id(n))\n",
        "    # for any value in the graph, create a rectangular ('record') node for it\n",
        "    dot.node(name = uid, label = \"{ %s | data %.4f | grad %.4f }\" % (n.label, n.data, n.grad), shape='record')\n",
        "    if n._op:\n",
        "      # if this value is a result of some operation, create an op node for it\n",
        "      dot.node(name = uid + n._op, label = n._op)\n",
        "      # and connect this node to it\n",
        "      dot.edge(uid + n._op, uid)\n",
        "\n",
        "  for n1, n2 in edges:\n",
        "    # connect n1 to the op node of n2\n",
        "    dot.edge(str(id(n1)), str(id(n2)) + n2._op)\n",
        "\n",
        "  return dot\n"
      ]
    },
    {
      "cell_type": "code",
      "execution_count": 94,
      "metadata": {
        "id": "tgpWzmbukBvo"
      },
      "outputs": [],
      "source": [
        "class Neuron:\n",
        "\n",
        "  def __init__(self, nin):\n",
        "    self.w = [Value(random.uniform(-1,1)) for _ in range(nin)]\n",
        "    self.b = Value(random.uniform(-1,1))\n",
        "\n",
        "  def __call__(self, x):\n",
        "    # w * x + b\n",
        "    act = sum((wi*xi for wi, xi in zip(self.w, x)), self.b)\n",
        "    out = act.tanh()\n",
        "    return out\n",
        "\n",
        "  def parameters(self):\n",
        "    return self.w + [self.b]\n",
        "\n",
        "class Layer:\n",
        "\n",
        "  def __init__(self, nin, nout):\n",
        "    self.neurons = [Neuron(nin) for _ in range(nout)]\n",
        "\n",
        "  def __call__(self, x):\n",
        "    outs = [n(x) for n in self.neurons]\n",
        "    return outs[0] if len(outs) == 1 else outs\n",
        "\n",
        "  def parameters(self):\n",
        "    return [p for neuron in self.neurons for p in neuron.parameters()]\n",
        "\n",
        "class MLP:\n",
        "\n",
        "  def __init__(self, nin, nouts):\n",
        "    sz = [nin] + nouts\n",
        "    self.layers = [Layer(sz[i], sz[i+1]) for i in range(len(nouts))]\n",
        "\n",
        "  def __call__(self, x):\n",
        "    for layer in self.layers:\n",
        "      x = layer(x)\n",
        "    return x\n",
        "\n",
        "  def parameters(self):\n",
        "    return [p for layer in self.layers for p in layer.parameters()]\n"
      ]
    },
    {
      "cell_type": "code",
      "execution_count": 104,
      "metadata": {
        "colab": {
          "base_uri": "https://localhost:8080/"
        },
        "id": "__WtH01DkBvo",
        "outputId": "ea6268f7-37db-42ab-ad99-d9ff874082d5"
      },
      "outputs": [
        {
          "output_type": "stream",
          "name": "stdout",
          "text": [
            "0 4.666044606977243\n",
            "1 2.9529080118533058\n",
            "2 2.1640264563846703\n",
            "3 2.890063823394537\n",
            "4 0.3281049565250708\n",
            "5 0.17303008992666408\n",
            "6 0.11116562339628379\n",
            "7 0.08193018572519377\n",
            "8 0.06431983772564273\n",
            "9 0.05266848992922654\n",
            "10 0.044439115182079936\n",
            "11 0.038341559627807345\n",
            "12 0.03365562411300452\n",
            "13 0.029949670822266822\n",
            "14 0.026950160864273723\n",
            "15 0.024475780296407432\n",
            "16 0.02240182448917184\n",
            "17 0.020639833473871213\n",
            "18 0.019125391636964195\n",
            "19 0.017810524413712083\n",
            "Took: 0.16346049308776855 seconds\n"
          ]
        }
      ],
      "source": [
        "x = [2.0, 3.0, -1.0]\n",
        "n = MLP(3, [4, 4, 1])\n",
        "n(x)\n",
        "xs = [\n",
        "  [2.0, 3.0, -1.0],\n",
        "  [3.0, -1.0, 0.5],\n",
        "  [0.5, 1.0, 1.0],\n",
        "  [1.0, 1.0, -1.0],\n",
        "]\n",
        "ys = [1.0, -1.0, -1.0, 1.0] # desired targets\n",
        "start = time.time()\n",
        "for k in range(20):\n",
        "\n",
        "  # forward pass\n",
        "  ypred = [n(x) for x in xs]\n",
        "  loss = sum((yout - ygt)**2 for ygt, yout in zip(ys, ypred))\n",
        "\n",
        "  # backward pass\n",
        "  for p in n.parameters():\n",
        "    p.grad = 0.0\n",
        "  loss.backward()\n",
        "\n",
        "  # update\n",
        "  for p in n.parameters():\n",
        "    p.data += -0.1 * p.grad\n",
        "\n",
        "  print(k, loss.data)\n",
        "print(f\"Took: {time.time() - start} seconds\")\n",
        ""
      ]
    },
    {
      "cell_type": "code",
      "execution_count": 11,
      "metadata": {
        "colab": {
          "base_uri": "https://localhost:8080/"
        },
        "id": "1pVuD4tJkBvo",
        "outputId": "587bf345-dc73-4d07-ba4a-46f4224d043e"
      },
      "outputs": [
        {
          "output_type": "execute_result",
          "data": {
            "text/plain": [
              "[Value(data=0.9582118055533463),\n",
              " Value(data=-0.9675572398114293),\n",
              " Value(data=-0.9185864804883725),\n",
              " Value(data=0.9130666616832106)]"
            ]
          },
          "metadata": {},
          "execution_count": 11
        }
      ],
      "source": [
        "ypred"
      ]
    },
    {
      "cell_type": "code",
      "source": [
        "import math"
      ],
      "metadata": {
        "id": "9xKalEMJmKig"
      },
      "execution_count": 12,
      "outputs": []
    },
    {
      "cell_type": "code",
      "source": [
        "def stringify(nested_list):\n",
        "    \"\"\"\n",
        "    Recursively convert all numbers in a nested list to strings with one decimal place.\n",
        "    \"\"\"\n",
        "    if isinstance(nested_list, list):\n",
        "        return '[' + ', '.join([stringify(item) for item in nested_list]) + ']'\n",
        "    else:\n",
        "        return f\"{nested_list:.2f}\"\n",
        "\n",
        "def trace(root):\n",
        "    # Builds a set of all nodes and edges in a graph\n",
        "    nodes, edges = set(), set()\n",
        "    def build(v):\n",
        "        if v not in nodes:\n",
        "            nodes.add(v)\n",
        "            for child in v._prev:\n",
        "                edges.add((child, v))\n",
        "                build(child)\n",
        "    build(root)\n",
        "    return nodes, edges\n",
        "\n",
        "def draw_dot_tensor(root):\n",
        "    dot = Digraph(format='svg', graph_attr={'rankdir': 'LR'})  # LR = left to right\n",
        "\n",
        "    nodes, edges = trace(root)\n",
        "    for n in nodes:\n",
        "        uid = str(id(n))\n",
        "        # For any value in the graph, create a rectangular ('record') node for it\n",
        "        data_str = stringify(n.data)  # Use stringify for data\n",
        "        grad_str = stringify(n.grad)  # Use stringify for grad\n",
        "        dot.node(name=uid, label=\"{ %s | data %s | grad %s }\" % (n.label, data_str, grad_str), shape='record')\n",
        "        if n._op:\n",
        "            # If this value is a result of some operation, create an op node for it\n",
        "            dot.node(name=uid + n._op, label=n._op)\n",
        "            # And connect this node to it\n",
        "            dot.edge(uid + n._op, uid)\n",
        "\n",
        "    for n1, n2 in edges:\n",
        "        # Connect n1 to the op node of n2\n",
        "        dot.edge(str(id(n1)), str(id(n2)) + n2._op)\n",
        "\n",
        "    return dot"
      ],
      "metadata": {
        "id": "KNECJ9ws0x3U"
      },
      "execution_count": 57,
      "outputs": []
    },
    {
      "cell_type": "code",
      "execution_count": 305,
      "metadata": {
        "id": "H8D5iG2EkBvo"
      },
      "outputs": [],
      "source": [
        "def tanh(x):\n",
        "    return (math.exp(2*x) - 1) / (math.exp(2*x) + 1)\n",
        "\n",
        "def tanh_prime(x):\n",
        "    t = tanh(x)\n",
        "    return 1 - t ** 2\n",
        "\n",
        "def exp(x):\n",
        "  return math.exp(x)\n",
        "\n",
        "def zeros_matrix_like(matrix):\n",
        "  return [[0 for _ in row] for row in matrix]\n",
        "\n",
        "def ones_matrix_like(matrix):\n",
        "  return [[1 for _ in row] for row in matrix]\n",
        "\n",
        "def matrix_mul(matrix_a, matrix_b):\n",
        "  rows_a = len(matrix_a)\n",
        "  cols_a = len(matrix_a[0])\n",
        "  rows_b = len(matrix_b)\n",
        "  cols_b = len(matrix_b[0])\n",
        "\n",
        "  if cols_a != rows_b:\n",
        "      raise ValueError(f\"The number of columns in the first matrix must be equal to the number of rows in the second matrix. Got cols_a {cols_a} and rows_b {rows_b}.\")\n",
        "\n",
        "  result = [[0 for _ in range(cols_b)] for _ in range(rows_a)]\n",
        "\n",
        "  for i in range(rows_a):\n",
        "      for j in range(cols_b):\n",
        "          for k in range(cols_a):\n",
        "              result[i][j] += matrix_a[i][k] * matrix_b[k][j]\n",
        "\n",
        "  return result\n",
        "\n",
        "def matrix_scalar_mul(scalar, matrix):\n",
        "  return [[scalar * matrix[j][i] for i in range(len(matrix[0]))] for j in range(len(matrix))]\n",
        "\n",
        "def matrix_add(matrix_a, matrix_b):\n",
        "  if len(matrix_a) != len(matrix_b) or len(matrix_a[0]) != len(matrix_b[0]):\n",
        "      raise ValueError(\"Matrices are not of the same dimensions.\")\n",
        "\n",
        "  result = [[matrix_a[i][j] + matrix_b[i][j] for j in range(len(matrix_a[0]))] for i in range(len(matrix_a))]\n",
        "  return result\n",
        "\n",
        "def matrix_transpose(matrix):\n",
        "    return [[matrix[j][i] for j in range(len(matrix))] for i in range(len(matrix[0]))]\n",
        "\n",
        "class Tensor:\n",
        "\n",
        "  def __init__(self, data, _children=(), _op='', label=''):\n",
        "    self.data = data # Nested list\n",
        "    self.grad = zeros_matrix_like(self.data)\n",
        "    self._backward = lambda: None\n",
        "    self._prev = set(_children)\n",
        "    self._op = _op\n",
        "    self.label = label\n",
        "\n",
        "  @property\n",
        "  def shape(self):\n",
        "      # Initialize the shape list\n",
        "      shape = []\n",
        "\n",
        "      # Check the first element to determine if it's a list\n",
        "      # and recursively find the dimensions\n",
        "      element = self.data\n",
        "      while isinstance(element, list):\n",
        "          shape.append(len(element))\n",
        "          element = element[0] if element else []\n",
        "\n",
        "      return tuple(shape)\n",
        "\n",
        "  def __repr__(self):\n",
        "    return f\"Tensor(data={self.data})\"\n",
        "\n",
        "  def __mul__(self, other):\n",
        "    other = other if isinstance(other, Tensor) else Tensor(other)\n",
        "    out = Tensor(matrix_mul(self.data, other.data), (self, other), '*')\n",
        "\n",
        "    def _backward():\n",
        "      self.grad = matrix_add(self.grad, matrix_mul(out.grad, matrix_transpose(other.data)))\n",
        "      other.grad = matrix_add(other.grad, matrix_mul(matrix_transpose(self.data), out.grad))\n",
        "    out._backward = _backward\n",
        "\n",
        "    return out\n",
        "\n",
        "  def __add__(self, other):\n",
        "    other = other if isinstance(other, Tensor) else Tensor(other)\n",
        "    out = Tensor(matrix_add(self.data, other.data), (self, other), '+')\n",
        "\n",
        "    def _backward():\n",
        "      self.grad = matrix_add(self.grad, out.grad)\n",
        "      other.grad = matrix_add(other.grad, out.grad)\n",
        "    out._backward = _backward\n",
        "\n",
        "    return out\n",
        "\n",
        "  def __rmul__(self, other): # other * self\n",
        "    return self * other\n",
        "\n",
        "  def __neg__(self): # -self\n",
        "    return self * [[-1]]\n",
        "\n",
        "  def __sub__(self, other):\n",
        "    other = other if isinstance(other, Tensor) else Tensor(other)\n",
        "    return self + (-other)\n",
        "\n",
        "  def __radd__(self, other): # other + self\n",
        "    return self + other\n",
        "\n",
        "  def __pow__(self, power):\n",
        "\n",
        "    # Apply power function element-wise\n",
        "    result_data = [[x_ij ** power for x_ij in row] for row in self.data]\n",
        "    out = Tensor(result_data, (self,), f'**{power}')\n",
        "\n",
        "    def _backward():\n",
        "        # Compute gradient with respect to the input tensor\n",
        "        for i, row in enumerate(self.data):\n",
        "            for j, val in enumerate(row):\n",
        "                # Derivative of val**power is power * val**(power-1)\n",
        "                self.grad[i][j] += power * (val ** (power - 1)) * out.grad[i][j]\n",
        "\n",
        "    out._backward = _backward\n",
        "\n",
        "    return out\n",
        "\n",
        "  def __truediv__(self, other): # self / other\n",
        "    return self * other**-1\n",
        "\n",
        "  @property\n",
        "  def T(self):\n",
        "      \"\"\" Transpose the tensor. \"\"\"\n",
        "      transposed_data = matrix_transpose(self.data)\n",
        "      return Tensor(transposed_data, _children=(self,), _op='transpose')\n",
        "\n",
        "\n",
        "  def apply_func(self, func, func_prime):\n",
        "    result_data = [[func(x_ij) for x_ij in row] for row in self.data]\n",
        "    out = Tensor(result_data, (self,), func.__name__)\n",
        "    def _backward():\n",
        "      for i, row in enumerate(self.data):\n",
        "          for j, _ in enumerate(row):\n",
        "              self.grad[i][j] += func_prime(self.data[i][j]) * out.grad[i][j]\n",
        "    out._backward = _backward\n",
        "    return out\n",
        "\n",
        "  def tanh(self):\n",
        "    return self.apply_func(tanh, tanh_prime)\n",
        "\n",
        "  def exp(self):\n",
        "    return self.apply_func(exp, exp)\n",
        "\n",
        "  def concat(self, other, axis=0):\n",
        "    # This implementation assumes a simple case where tensors are 2D\n",
        "    # and concatenated along the first dimension (axis=0)\n",
        "    if axis != 0:\n",
        "        raise NotImplementedError(\"Concatenation along this axis is not implemented.\")\n",
        "\n",
        "    concatenated_data = self.data + other.data\n",
        "\n",
        "    out = Tensor(concatenated_data, _children=(self, other), _op='concat')\n",
        "\n",
        "    def _backward():\n",
        "      # Since concatenation is along axis=0, we split the gradient back to the original tensors\n",
        "      # based on their data length\n",
        "      self_len = len(self.data)\n",
        "      self.grad = matrix_add(self.grad, out.grad[:self_len])\n",
        "      other.grad = matrix_add(other.grad, out.grad[self_len:])\n",
        "\n",
        "    out._backward = _backward\n",
        "    return out\n",
        "\n",
        "  def backward(self):\n",
        "\n",
        "    topo = []\n",
        "    visited = set()\n",
        "    def build_topo(v):\n",
        "      if v not in visited:\n",
        "        visited.add(v)\n",
        "        for child in v._prev:\n",
        "          build_topo(child)\n",
        "        topo.append(v)\n",
        "    build_topo(self)\n",
        "\n",
        "    self.grad = ones_matrix_like(self.data)\n",
        "    for node in reversed(topo):\n",
        "      node._backward()\n",
        "\n"
      ]
    },
    {
      "cell_type": "code",
      "source": [
        "# inputs x1,x2\n",
        "x1 = Tensor([[2.0]], label='x1')\n",
        "x2 = Tensor([[0.0]], label='x2')\n",
        "# weights w1,w2\n",
        "w1 = Tensor([[-3.0]], label='w1')\n",
        "w2 = Tensor([[1.0]], label='w2')\n",
        "# bias of the neuron\n",
        "b = Tensor([[6.8813735870195432]], label='b')\n",
        "# x1*w1 + x2*w2 + b\n",
        "x1w1 = x1*w1; x1w1.label = 'x1*w1'\n",
        "x2w2 = x2*w2; x2w2.label = 'x2*w2'\n",
        "x1w1x2w2 = x1w1 + x2w2; x1w1x2w2.label = 'x1*w1 + x2*w2'\n",
        "n = x1w1x2w2 + b; n.label = 'n'\n",
        "o = n.tanh(); o.label = 'o'\n",
        "o.backward()\n",
        "draw_dot_tensor(o)"
      ],
      "metadata": {
        "colab": {
          "base_uri": "https://localhost:8080/",
          "height": 321
        },
        "id": "thFnh2f6x3lV",
        "outputId": "6b6c9707-be07-4496-a9a9-fd630e043f22"
      },
      "execution_count": 306,
      "outputs": [
        {
          "output_type": "execute_result",
          "data": {
            "image/svg+xml": "<?xml version=\"1.0\" encoding=\"UTF-8\" standalone=\"no\"?>\n<!DOCTYPE svg PUBLIC \"-//W3C//DTD SVG 1.1//EN\"\n \"http://www.w3.org/Graphics/SVG/1.1/DTD/svg11.dtd\">\n<!-- Generated by graphviz version 2.43.0 (0)\n -->\n<!-- Title: %3 Pages: 1 -->\n<svg width=\"1617pt\" height=\"210pt\"\n viewBox=\"0.00 0.00 1617.00 210.00\" xmlns=\"http://www.w3.org/2000/svg\" xmlns:xlink=\"http://www.w3.org/1999/xlink\">\n<g id=\"graph0\" class=\"graph\" transform=\"scale(1 1) rotate(0) translate(4 206)\">\n<title>%3</title>\n<polygon fill=\"white\" stroke=\"transparent\" points=\"-4,4 -4,-206 1613,-206 1613,4 -4,4\"/>\n<!-- 136098733073424 -->\n<g id=\"node1\" class=\"node\">\n<title>136098733073424</title>\n<polygon fill=\"none\" stroke=\"black\" points=\"731.5,-137.5 731.5,-173.5 925.5,-173.5 925.5,-137.5 731.5,-137.5\"/>\n<text text-anchor=\"middle\" x=\"743\" y=\"-151.8\" font-family=\"Times,serif\" font-size=\"14.00\">b</text>\n<polyline fill=\"none\" stroke=\"black\" points=\"754.5,-137.5 754.5,-173.5 \"/>\n<text text-anchor=\"middle\" x=\"797\" y=\"-151.8\" font-family=\"Times,serif\" font-size=\"14.00\">data [[6.88]]</text>\n<polyline fill=\"none\" stroke=\"black\" points=\"839.5,-137.5 839.5,-173.5 \"/>\n<text text-anchor=\"middle\" x=\"882.5\" y=\"-151.8\" font-family=\"Times,serif\" font-size=\"14.00\">grad [[0.50]]</text>\n</g>\n<!-- 136098733071792+ -->\n<g id=\"node14\" class=\"node\">\n<title>136098733071792+</title>\n<ellipse fill=\"none\" stroke=\"black\" cx=\"1032\" cy=\"-127.5\" rx=\"27\" ry=\"18\"/>\n<text text-anchor=\"middle\" x=\"1032\" y=\"-123.8\" font-family=\"Times,serif\" font-size=\"14.00\">+</text>\n</g>\n<!-- 136098733073424&#45;&gt;136098733071792+ -->\n<g id=\"edge14\" class=\"edge\">\n<title>136098733073424&#45;&gt;136098733071792+</title>\n<path fill=\"none\" stroke=\"black\" d=\"M925.53,-142.16C950.45,-138.69 975.75,-135.18 995.32,-132.46\"/>\n<polygon fill=\"black\" stroke=\"black\" points=\"995.86,-135.92 1005.29,-131.07 994.9,-128.98 995.86,-135.92\"/>\n</g>\n<!-- 136098733071936 -->\n<g id=\"node2\" class=\"node\">\n<title>136098733071936</title>\n<polygon fill=\"none\" stroke=\"black\" points=\"688,-82.5 688,-118.5 969,-118.5 969,-82.5 688,-82.5\"/>\n<text text-anchor=\"middle\" x=\"741\" y=\"-96.8\" font-family=\"Times,serif\" font-size=\"14.00\">x1*w1 + x2*w2</text>\n<polyline fill=\"none\" stroke=\"black\" points=\"794,-82.5 794,-118.5 \"/>\n<text text-anchor=\"middle\" x=\"838.5\" y=\"-96.8\" font-family=\"Times,serif\" font-size=\"14.00\">data [[&#45;6.00]]</text>\n<polyline fill=\"none\" stroke=\"black\" points=\"883,-82.5 883,-118.5 \"/>\n<text text-anchor=\"middle\" x=\"926\" y=\"-96.8\" font-family=\"Times,serif\" font-size=\"14.00\">grad [[0.50]]</text>\n</g>\n<!-- 136098733071936&#45;&gt;136098733071792+ -->\n<g id=\"edge7\" class=\"edge\">\n<title>136098733071936&#45;&gt;136098733071792+</title>\n<path fill=\"none\" stroke=\"black\" d=\"M963.9,-118.51C975.23,-120.03 985.92,-121.46 995.3,-122.72\"/>\n<polygon fill=\"black\" stroke=\"black\" points=\"994.91,-126.2 1005.29,-124.05 995.84,-119.26 994.91,-126.2\"/>\n</g>\n<!-- 136098733071936+ -->\n<g id=\"node3\" class=\"node\">\n<title>136098733071936+</title>\n<ellipse fill=\"none\" stroke=\"black\" cx=\"625\" cy=\"-100.5\" rx=\"27\" ry=\"18\"/>\n<text text-anchor=\"middle\" x=\"625\" y=\"-96.8\" font-family=\"Times,serif\" font-size=\"14.00\">+</text>\n</g>\n<!-- 136098733071936+&#45;&gt;136098733071936 -->\n<g id=\"edge1\" class=\"edge\">\n<title>136098733071936+&#45;&gt;136098733071936</title>\n<path fill=\"none\" stroke=\"black\" d=\"M652.34,-100.5C659.79,-100.5 668.45,-100.5 677.87,-100.5\"/>\n<polygon fill=\"black\" stroke=\"black\" points=\"677.94,-104 687.94,-100.5 677.94,-97 677.94,-104\"/>\n</g>\n<!-- 136098733079136 -->\n<g id=\"node4\" class=\"node\">\n<title>136098733079136</title>\n<polygon fill=\"none\" stroke=\"black\" points=\"336,-110.5 336,-146.5 560,-146.5 560,-110.5 336,-110.5\"/>\n<text text-anchor=\"middle\" x=\"362.5\" y=\"-124.8\" font-family=\"Times,serif\" font-size=\"14.00\">x2*w2</text>\n<polyline fill=\"none\" stroke=\"black\" points=\"389,-110.5 389,-146.5 \"/>\n<text text-anchor=\"middle\" x=\"431.5\" y=\"-124.8\" font-family=\"Times,serif\" font-size=\"14.00\">data [[0.00]]</text>\n<polyline fill=\"none\" stroke=\"black\" points=\"474,-110.5 474,-146.5 \"/>\n<text text-anchor=\"middle\" x=\"517\" y=\"-124.8\" font-family=\"Times,serif\" font-size=\"14.00\">grad [[0.50]]</text>\n</g>\n<!-- 136098733079136&#45;&gt;136098733071936+ -->\n<g id=\"edge10\" class=\"edge\">\n<title>136098733079136&#45;&gt;136098733071936+</title>\n<path fill=\"none\" stroke=\"black\" d=\"M560.33,-110.69C570.39,-109.08 580,-107.54 588.56,-106.17\"/>\n<polygon fill=\"black\" stroke=\"black\" points=\"589.13,-109.62 598.45,-104.59 588.02,-102.71 589.13,-109.62\"/>\n</g>\n<!-- 136098733079136* -->\n<g id=\"node5\" class=\"node\">\n<title>136098733079136*</title>\n<ellipse fill=\"none\" stroke=\"black\" cx=\"271\" cy=\"-128.5\" rx=\"27\" ry=\"18\"/>\n<text text-anchor=\"middle\" x=\"271\" y=\"-124.8\" font-family=\"Times,serif\" font-size=\"14.00\">*</text>\n</g>\n<!-- 136098733079136*&#45;&gt;136098733079136 -->\n<g id=\"edge2\" class=\"edge\">\n<title>136098733079136*&#45;&gt;136098733079136</title>\n<path fill=\"none\" stroke=\"black\" d=\"M298.2,-128.5C306.21,-128.5 315.6,-128.5 325.69,-128.5\"/>\n<polygon fill=\"black\" stroke=\"black\" points=\"326,-132 336,-128.5 326,-125 326,-132\"/>\n</g>\n<!-- 136098733073568 -->\n<g id=\"node6\" class=\"node\">\n<title>136098733073568</title>\n<polygon fill=\"none\" stroke=\"black\" points=\"3.5,-165.5 3.5,-201.5 204.5,-201.5 204.5,-165.5 3.5,-165.5\"/>\n<text text-anchor=\"middle\" x=\"18.5\" y=\"-179.8\" font-family=\"Times,serif\" font-size=\"14.00\">x2</text>\n<polyline fill=\"none\" stroke=\"black\" points=\"33.5,-165.5 33.5,-201.5 \"/>\n<text text-anchor=\"middle\" x=\"76\" y=\"-179.8\" font-family=\"Times,serif\" font-size=\"14.00\">data [[0.00]]</text>\n<polyline fill=\"none\" stroke=\"black\" points=\"118.5,-165.5 118.5,-201.5 \"/>\n<text text-anchor=\"middle\" x=\"161.5\" y=\"-179.8\" font-family=\"Times,serif\" font-size=\"14.00\">grad [[0.50]]</text>\n</g>\n<!-- 136098733073568&#45;&gt;136098733079136* -->\n<g id=\"edge6\" class=\"edge\">\n<title>136098733073568&#45;&gt;136098733079136*</title>\n<path fill=\"none\" stroke=\"black\" d=\"M179.99,-165.42C189.49,-162.67 199.03,-159.68 208,-156.5 218.55,-152.77 229.78,-147.96 239.74,-143.39\"/>\n<polygon fill=\"black\" stroke=\"black\" points=\"241.28,-146.54 248.84,-139.12 238.3,-140.2 241.28,-146.54\"/>\n</g>\n<!-- 136098733072560 -->\n<g id=\"node7\" class=\"node\">\n<title>136098733072560</title>\n<polygon fill=\"none\" stroke=\"black\" points=\"1415,-109.5 1415,-145.5 1609,-145.5 1609,-109.5 1415,-109.5\"/>\n<text text-anchor=\"middle\" x=\"1426.5\" y=\"-123.8\" font-family=\"Times,serif\" font-size=\"14.00\">o</text>\n<polyline fill=\"none\" stroke=\"black\" points=\"1438,-109.5 1438,-145.5 \"/>\n<text text-anchor=\"middle\" x=\"1480.5\" y=\"-123.8\" font-family=\"Times,serif\" font-size=\"14.00\">data [[0.71]]</text>\n<polyline fill=\"none\" stroke=\"black\" points=\"1523,-109.5 1523,-145.5 \"/>\n<text text-anchor=\"middle\" x=\"1566\" y=\"-123.8\" font-family=\"Times,serif\" font-size=\"14.00\">grad [[1.00]]</text>\n</g>\n<!-- 136098733072560tanh -->\n<g id=\"node8\" class=\"node\">\n<title>136098733072560tanh</title>\n<ellipse fill=\"none\" stroke=\"black\" cx=\"1352\" cy=\"-127.5\" rx=\"27\" ry=\"18\"/>\n<text text-anchor=\"middle\" x=\"1352\" y=\"-123.8\" font-family=\"Times,serif\" font-size=\"14.00\">tanh</text>\n</g>\n<!-- 136098733072560tanh&#45;&gt;136098733072560 -->\n<g id=\"edge3\" class=\"edge\">\n<title>136098733072560tanh&#45;&gt;136098733072560</title>\n<path fill=\"none\" stroke=\"black\" d=\"M1379.09,-127.5C1386.62,-127.5 1395.34,-127.5 1404.63,-127.5\"/>\n<polygon fill=\"black\" stroke=\"black\" points=\"1404.92,-131 1414.92,-127.5 1404.92,-124 1404.92,-131\"/>\n</g>\n<!-- 136098733073616 -->\n<g id=\"node9\" class=\"node\">\n<title>136098733073616</title>\n<polygon fill=\"none\" stroke=\"black\" points=\"1,-55.5 1,-91.5 207,-91.5 207,-55.5 1,-55.5\"/>\n<text text-anchor=\"middle\" x=\"16\" y=\"-69.8\" font-family=\"Times,serif\" font-size=\"14.00\">x1</text>\n<polyline fill=\"none\" stroke=\"black\" points=\"31,-55.5 31,-91.5 \"/>\n<text text-anchor=\"middle\" x=\"73.5\" y=\"-69.8\" font-family=\"Times,serif\" font-size=\"14.00\">data [[2.00]]</text>\n<polyline fill=\"none\" stroke=\"black\" points=\"116,-55.5 116,-91.5 \"/>\n<text text-anchor=\"middle\" x=\"161.5\" y=\"-69.8\" font-family=\"Times,serif\" font-size=\"14.00\">grad [[&#45;1.50]]</text>\n</g>\n<!-- 136098733073808* -->\n<g id=\"node12\" class=\"node\">\n<title>136098733073808*</title>\n<ellipse fill=\"none\" stroke=\"black\" cx=\"271\" cy=\"-73.5\" rx=\"27\" ry=\"18\"/>\n<text text-anchor=\"middle\" x=\"271\" y=\"-69.8\" font-family=\"Times,serif\" font-size=\"14.00\">*</text>\n</g>\n<!-- 136098733073616&#45;&gt;136098733073808* -->\n<g id=\"edge13\" class=\"edge\">\n<title>136098733073616&#45;&gt;136098733073808*</title>\n<path fill=\"none\" stroke=\"black\" d=\"M207.15,-73.5C216.5,-73.5 225.5,-73.5 233.61,-73.5\"/>\n<polygon fill=\"black\" stroke=\"black\" points=\"233.73,-77 243.73,-73.5 233.73,-70 233.73,-77\"/>\n</g>\n<!-- 136098733074192 -->\n<g id=\"node10\" class=\"node\">\n<title>136098733074192</title>\n<polygon fill=\"none\" stroke=\"black\" points=\"0,-0.5 0,-36.5 208,-36.5 208,-0.5 0,-0.5\"/>\n<text text-anchor=\"middle\" x=\"16.5\" y=\"-14.8\" font-family=\"Times,serif\" font-size=\"14.00\">w1</text>\n<polyline fill=\"none\" stroke=\"black\" points=\"33,-0.5 33,-36.5 \"/>\n<text text-anchor=\"middle\" x=\"77.5\" y=\"-14.8\" font-family=\"Times,serif\" font-size=\"14.00\">data [[&#45;3.00]]</text>\n<polyline fill=\"none\" stroke=\"black\" points=\"122,-0.5 122,-36.5 \"/>\n<text text-anchor=\"middle\" x=\"165\" y=\"-14.8\" font-family=\"Times,serif\" font-size=\"14.00\">grad [[1.00]]</text>\n</g>\n<!-- 136098733074192&#45;&gt;136098733073808* -->\n<g id=\"edge9\" class=\"edge\">\n<title>136098733074192&#45;&gt;136098733073808*</title>\n<path fill=\"none\" stroke=\"black\" d=\"M176.61,-36.52C187.22,-39.61 197.95,-42.97 208,-46.5 218.3,-50.12 229.3,-54.67 239.13,-59.01\"/>\n<polygon fill=\"black\" stroke=\"black\" points=\"237.95,-62.31 248.5,-63.22 240.82,-55.93 237.95,-62.31\"/>\n</g>\n<!-- 136098733073808 -->\n<g id=\"node11\" class=\"node\">\n<title>136098733073808</title>\n<polygon fill=\"none\" stroke=\"black\" points=\"334,-55.5 334,-91.5 562,-91.5 562,-55.5 334,-55.5\"/>\n<text text-anchor=\"middle\" x=\"360.5\" y=\"-69.8\" font-family=\"Times,serif\" font-size=\"14.00\">x1*w1</text>\n<polyline fill=\"none\" stroke=\"black\" points=\"387,-55.5 387,-91.5 \"/>\n<text text-anchor=\"middle\" x=\"431.5\" y=\"-69.8\" font-family=\"Times,serif\" font-size=\"14.00\">data [[&#45;6.00]]</text>\n<polyline fill=\"none\" stroke=\"black\" points=\"476,-55.5 476,-91.5 \"/>\n<text text-anchor=\"middle\" x=\"519\" y=\"-69.8\" font-family=\"Times,serif\" font-size=\"14.00\">grad [[0.50]]</text>\n</g>\n<!-- 136098733073808&#45;&gt;136098733071936+ -->\n<g id=\"edge12\" class=\"edge\">\n<title>136098733073808&#45;&gt;136098733071936+</title>\n<path fill=\"none\" stroke=\"black\" d=\"M562.3,-90.98C571.62,-92.42 580.51,-93.79 588.5,-95.02\"/>\n<polygon fill=\"black\" stroke=\"black\" points=\"588.02,-98.49 598.43,-96.56 589.08,-91.57 588.02,-98.49\"/>\n</g>\n<!-- 136098733073808*&#45;&gt;136098733073808 -->\n<g id=\"edge4\" class=\"edge\">\n<title>136098733073808*&#45;&gt;136098733073808</title>\n<path fill=\"none\" stroke=\"black\" d=\"M298.2,-73.5C305.62,-73.5 314.23,-73.5 323.48,-73.5\"/>\n<polygon fill=\"black\" stroke=\"black\" points=\"323.76,-77 333.76,-73.5 323.76,-70 323.76,-77\"/>\n</g>\n<!-- 136098733071792 -->\n<g id=\"node13\" class=\"node\">\n<title>136098733071792</title>\n<polygon fill=\"none\" stroke=\"black\" points=\"1095,-109.5 1095,-145.5 1289,-145.5 1289,-109.5 1095,-109.5\"/>\n<text text-anchor=\"middle\" x=\"1106.5\" y=\"-123.8\" font-family=\"Times,serif\" font-size=\"14.00\">n</text>\n<polyline fill=\"none\" stroke=\"black\" points=\"1118,-109.5 1118,-145.5 \"/>\n<text text-anchor=\"middle\" x=\"1160.5\" y=\"-123.8\" font-family=\"Times,serif\" font-size=\"14.00\">data [[0.88]]</text>\n<polyline fill=\"none\" stroke=\"black\" points=\"1203,-109.5 1203,-145.5 \"/>\n<text text-anchor=\"middle\" x=\"1246\" y=\"-123.8\" font-family=\"Times,serif\" font-size=\"14.00\">grad [[0.50]]</text>\n</g>\n<!-- 136098733071792&#45;&gt;136098733072560tanh -->\n<g id=\"edge8\" class=\"edge\">\n<title>136098733071792&#45;&gt;136098733072560tanh</title>\n<path fill=\"none\" stroke=\"black\" d=\"M1289.01,-127.5C1297.98,-127.5 1306.65,-127.5 1314.51,-127.5\"/>\n<polygon fill=\"black\" stroke=\"black\" points=\"1314.7,-131 1324.7,-127.5 1314.7,-124 1314.7,-131\"/>\n</g>\n<!-- 136098733071792+&#45;&gt;136098733071792 -->\n<g id=\"edge5\" class=\"edge\">\n<title>136098733071792+&#45;&gt;136098733071792</title>\n<path fill=\"none\" stroke=\"black\" d=\"M1059.09,-127.5C1066.62,-127.5 1075.34,-127.5 1084.63,-127.5\"/>\n<polygon fill=\"black\" stroke=\"black\" points=\"1084.92,-131 1094.92,-127.5 1084.92,-124 1084.92,-131\"/>\n</g>\n<!-- 136098733073904 -->\n<g id=\"node15\" class=\"node\">\n<title>136098733073904</title>\n<polygon fill=\"none\" stroke=\"black\" points=\"2,-110.5 2,-146.5 206,-146.5 206,-110.5 2,-110.5\"/>\n<text text-anchor=\"middle\" x=\"18.5\" y=\"-124.8\" font-family=\"Times,serif\" font-size=\"14.00\">w2</text>\n<polyline fill=\"none\" stroke=\"black\" points=\"35,-110.5 35,-146.5 \"/>\n<text text-anchor=\"middle\" x=\"77.5\" y=\"-124.8\" font-family=\"Times,serif\" font-size=\"14.00\">data [[1.00]]</text>\n<polyline fill=\"none\" stroke=\"black\" points=\"120,-110.5 120,-146.5 \"/>\n<text text-anchor=\"middle\" x=\"163\" y=\"-124.8\" font-family=\"Times,serif\" font-size=\"14.00\">grad [[0.00]]</text>\n</g>\n<!-- 136098733073904&#45;&gt;136098733079136* -->\n<g id=\"edge11\" class=\"edge\">\n<title>136098733073904&#45;&gt;136098733079136*</title>\n<path fill=\"none\" stroke=\"black\" d=\"M206.21,-128.5C215.96,-128.5 225.35,-128.5 233.78,-128.5\"/>\n<polygon fill=\"black\" stroke=\"black\" points=\"233.91,-132 243.91,-128.5 233.91,-125 233.91,-132\"/>\n</g>\n</g>\n</svg>\n",
            "text/plain": [
              "<graphviz.graphs.Digraph at 0x7bc7f4a3a8f0>"
            ]
          },
          "metadata": {},
          "execution_count": 306
        }
      ]
    },
    {
      "cell_type": "code",
      "source": [
        "# inputs with bias\n",
        "x = Tensor([[2.0],[0.0],[1.0]], label='x')\n",
        "# weights w1,w2\n",
        "w = Tensor([[-3.0,1.0,6.8813735870195432]], label='w')\n",
        "n = w * x; n.label = 'n'\n",
        "o = n.tanh(); o.label = 'o'\n",
        "o.backward()\n",
        "draw_dot_tensor(o)"
      ],
      "metadata": {
        "colab": {
          "base_uri": "https://localhost:8080/",
          "height": 175
        },
        "id": "_aAB1OhL1rsJ",
        "outputId": "be9fd1c2-9d58-4837-ce35-690019d59b18"
      },
      "execution_count": 307,
      "outputs": [
        {
          "output_type": "execute_result",
          "data": {
            "image/svg+xml": "<?xml version=\"1.0\" encoding=\"UTF-8\" standalone=\"no\"?>\n<!DOCTYPE svg PUBLIC \"-//W3C//DTD SVG 1.1//EN\"\n \"http://www.w3.org/Graphics/SVG/1.1/DTD/svg11.dtd\">\n<!-- Generated by graphviz version 2.43.0 (0)\n -->\n<!-- Title: %3 Pages: 1 -->\n<svg width=\"1009pt\" height=\"100pt\"\n viewBox=\"0.00 0.00 1009.00 100.00\" xmlns=\"http://www.w3.org/2000/svg\" xmlns:xlink=\"http://www.w3.org/1999/xlink\">\n<g id=\"graph0\" class=\"graph\" transform=\"scale(1 1) rotate(0) translate(4 96)\">\n<title>%3</title>\n<polygon fill=\"white\" stroke=\"transparent\" points=\"-4,4 -4,-96 1005,-96 1005,4 -4,4\"/>\n<!-- 136098733070352 -->\n<g id=\"node1\" class=\"node\">\n<title>136098733070352</title>\n<polygon fill=\"none\" stroke=\"black\" points=\"487,-27.5 487,-63.5 681,-63.5 681,-27.5 487,-27.5\"/>\n<text text-anchor=\"middle\" x=\"498.5\" y=\"-41.8\" font-family=\"Times,serif\" font-size=\"14.00\">n</text>\n<polyline fill=\"none\" stroke=\"black\" points=\"510,-27.5 510,-63.5 \"/>\n<text text-anchor=\"middle\" x=\"552.5\" y=\"-41.8\" font-family=\"Times,serif\" font-size=\"14.00\">data [[0.88]]</text>\n<polyline fill=\"none\" stroke=\"black\" points=\"595,-27.5 595,-63.5 \"/>\n<text text-anchor=\"middle\" x=\"638\" y=\"-41.8\" font-family=\"Times,serif\" font-size=\"14.00\">grad [[0.50]]</text>\n</g>\n<!-- 136098733076592tanh -->\n<g id=\"node6\" class=\"node\">\n<title>136098733076592tanh</title>\n<ellipse fill=\"none\" stroke=\"black\" cx=\"744\" cy=\"-45.5\" rx=\"27\" ry=\"18\"/>\n<text text-anchor=\"middle\" x=\"744\" y=\"-41.8\" font-family=\"Times,serif\" font-size=\"14.00\">tanh</text>\n</g>\n<!-- 136098733070352&#45;&gt;136098733076592tanh -->\n<g id=\"edge4\" class=\"edge\">\n<title>136098733070352&#45;&gt;136098733076592tanh</title>\n<path fill=\"none\" stroke=\"black\" d=\"M681.01,-45.5C689.98,-45.5 698.65,-45.5 706.51,-45.5\"/>\n<polygon fill=\"black\" stroke=\"black\" points=\"706.7,-49 716.7,-45.5 706.7,-42 706.7,-49\"/>\n</g>\n<!-- 136098733070352* -->\n<g id=\"node2\" class=\"node\">\n<title>136098733070352*</title>\n<ellipse fill=\"none\" stroke=\"black\" cx=\"424\" cy=\"-45.5\" rx=\"27\" ry=\"18\"/>\n<text text-anchor=\"middle\" x=\"424\" y=\"-41.8\" font-family=\"Times,serif\" font-size=\"14.00\">*</text>\n</g>\n<!-- 136098733070352*&#45;&gt;136098733070352 -->\n<g id=\"edge1\" class=\"edge\">\n<title>136098733070352*&#45;&gt;136098733070352</title>\n<path fill=\"none\" stroke=\"black\" d=\"M451.09,-45.5C458.62,-45.5 467.34,-45.5 476.63,-45.5\"/>\n<polygon fill=\"black\" stroke=\"black\" points=\"476.92,-49 486.92,-45.5 476.92,-42 476.92,-49\"/>\n</g>\n<!-- 136098733073328 -->\n<g id=\"node3\" class=\"node\">\n<title>136098733073328</title>\n<polygon fill=\"none\" stroke=\"black\" points=\"0,-55.5 0,-91.5 361,-91.5 361,-55.5 0,-55.5\"/>\n<text text-anchor=\"middle\" x=\"11.5\" y=\"-69.8\" font-family=\"Times,serif\" font-size=\"14.00\">x</text>\n<polyline fill=\"none\" stroke=\"black\" points=\"23,-55.5 23,-91.5 \"/>\n<text text-anchor=\"middle\" x=\"106\" y=\"-69.8\" font-family=\"Times,serif\" font-size=\"14.00\">data [[2.00], [0.00], [1.00]]</text>\n<polyline fill=\"none\" stroke=\"black\" points=\"189,-55.5 189,-91.5 \"/>\n<text text-anchor=\"middle\" x=\"275\" y=\"-69.8\" font-family=\"Times,serif\" font-size=\"14.00\">grad [[&#45;1.50], [0.50], [3.44]]</text>\n</g>\n<!-- 136098733073328&#45;&gt;136098733070352* -->\n<g id=\"edge3\" class=\"edge\">\n<title>136098733073328&#45;&gt;136098733070352*</title>\n<path fill=\"none\" stroke=\"black\" d=\"M336.84,-55.49C355.37,-53.34 372.71,-51.33 386.92,-49.68\"/>\n<polygon fill=\"black\" stroke=\"black\" points=\"387.6,-53.13 397.13,-48.5 386.79,-46.17 387.6,-53.13\"/>\n</g>\n<!-- 136098733074144 -->\n<g id=\"node4\" class=\"node\">\n<title>136098733074144</title>\n<polygon fill=\"none\" stroke=\"black\" points=\"17,-0.5 17,-36.5 344,-36.5 344,-0.5 17,-0.5\"/>\n<text text-anchor=\"middle\" x=\"30\" y=\"-14.8\" font-family=\"Times,serif\" font-size=\"14.00\">w</text>\n<polyline fill=\"none\" stroke=\"black\" points=\"43,-0.5 43,-36.5 \"/>\n<text text-anchor=\"middle\" x=\"119\" y=\"-14.8\" font-family=\"Times,serif\" font-size=\"14.00\">data [[&#45;3.00, 1.00, 6.88]]</text>\n<polyline fill=\"none\" stroke=\"black\" points=\"195,-0.5 195,-36.5 \"/>\n<text text-anchor=\"middle\" x=\"269.5\" y=\"-14.8\" font-family=\"Times,serif\" font-size=\"14.00\">grad [[1.00, 0.00, 0.50]]</text>\n</g>\n<!-- 136098733074144&#45;&gt;136098733070352* -->\n<g id=\"edge5\" class=\"edge\">\n<title>136098733074144&#45;&gt;136098733070352*</title>\n<path fill=\"none\" stroke=\"black\" d=\"M342.58,-36.51C359.08,-38.35 374.44,-40.07 387.22,-41.5\"/>\n<polygon fill=\"black\" stroke=\"black\" points=\"386.99,-45 397.32,-42.63 387.77,-38.04 386.99,-45\"/>\n</g>\n<!-- 136098733076592 -->\n<g id=\"node5\" class=\"node\">\n<title>136098733076592</title>\n<polygon fill=\"none\" stroke=\"black\" points=\"807,-27.5 807,-63.5 1001,-63.5 1001,-27.5 807,-27.5\"/>\n<text text-anchor=\"middle\" x=\"818.5\" y=\"-41.8\" font-family=\"Times,serif\" font-size=\"14.00\">o</text>\n<polyline fill=\"none\" stroke=\"black\" points=\"830,-27.5 830,-63.5 \"/>\n<text text-anchor=\"middle\" x=\"872.5\" y=\"-41.8\" font-family=\"Times,serif\" font-size=\"14.00\">data [[0.71]]</text>\n<polyline fill=\"none\" stroke=\"black\" points=\"915,-27.5 915,-63.5 \"/>\n<text text-anchor=\"middle\" x=\"958\" y=\"-41.8\" font-family=\"Times,serif\" font-size=\"14.00\">grad [[1.00]]</text>\n</g>\n<!-- 136098733076592tanh&#45;&gt;136098733076592 -->\n<g id=\"edge2\" class=\"edge\">\n<title>136098733076592tanh&#45;&gt;136098733076592</title>\n<path fill=\"none\" stroke=\"black\" d=\"M771.09,-45.5C778.62,-45.5 787.34,-45.5 796.63,-45.5\"/>\n<polygon fill=\"black\" stroke=\"black\" points=\"796.92,-49 806.92,-45.5 796.92,-42 796.92,-49\"/>\n</g>\n</g>\n</svg>\n",
            "text/plain": [
              "<graphviz.graphs.Digraph at 0x7bc7f4a39c90>"
            ]
          },
          "metadata": {},
          "execution_count": 307
        }
      ]
    },
    {
      "cell_type": "code",
      "source": [
        "# inputs with bias\n",
        "x = Tensor([[2.0],[0.0],[1.0]], label='x')\n",
        "# weights w1,w2\n",
        "w = Tensor([[-3.0,1.0,6.8813735870195432]], label='w')\n",
        "n = w * x; n.label = 'n'\n",
        "# ----\n",
        "e = ([[2]]*n).exp(); e.label = 'e'\n",
        "o = (e - [[1]]) / (e + [[1]])\n",
        "# ----\n",
        "o.label = 'o'\n",
        "o.backward()\n",
        "draw_dot_tensor(o)"
      ],
      "metadata": {
        "colab": {
          "base_uri": "https://localhost:8080/",
          "height": 321
        },
        "id": "k_Kc8HLX2mgL",
        "outputId": "82951213-7eab-4902-d5e0-ce2be449cb2a"
      },
      "execution_count": 308,
      "outputs": [
        {
          "output_type": "execute_result",
          "data": {
            "image/svg+xml": "<?xml version=\"1.0\" encoding=\"UTF-8\" standalone=\"no\"?>\n<!DOCTYPE svg PUBLIC \"-//W3C//DTD SVG 1.1//EN\"\n \"http://www.w3.org/Graphics/SVG/1.1/DTD/svg11.dtd\">\n<!-- Generated by graphviz version 2.43.0 (0)\n -->\n<!-- Title: %3 Pages: 1 -->\n<svg width=\"2429pt\" height=\"210pt\"\n viewBox=\"0.00 0.00 2429.00 210.00\" xmlns=\"http://www.w3.org/2000/svg\" xmlns:xlink=\"http://www.w3.org/1999/xlink\">\n<g id=\"graph0\" class=\"graph\" transform=\"scale(1 1) rotate(0) translate(4 206)\">\n<title>%3</title>\n<polygon fill=\"white\" stroke=\"transparent\" points=\"-4,4 -4,-206 2425,-206 2425,4 -4,4\"/>\n<!-- 136098733070880 -->\n<g id=\"node1\" class=\"node\">\n<title>136098733070880</title>\n<polygon fill=\"none\" stroke=\"black\" points=\"488.5,-138.5 488.5,-174.5 679.5,-174.5 679.5,-138.5 488.5,-138.5\"/>\n<text text-anchor=\"middle\" x=\"498.5\" y=\"-152.8\" font-family=\"Times,serif\" font-size=\"14.00\"> </text>\n<polyline fill=\"none\" stroke=\"black\" points=\"508.5,-138.5 508.5,-174.5 \"/>\n<text text-anchor=\"middle\" x=\"551\" y=\"-152.8\" font-family=\"Times,serif\" font-size=\"14.00\">data [[2.00]]</text>\n<polyline fill=\"none\" stroke=\"black\" points=\"593.5,-138.5 593.5,-174.5 \"/>\n<text text-anchor=\"middle\" x=\"636.5\" y=\"-152.8\" font-family=\"Times,serif\" font-size=\"14.00\">grad [[0.22]]</text>\n</g>\n<!-- 136098733073520* -->\n<g id=\"node5\" class=\"node\">\n<title>136098733073520*</title>\n<ellipse fill=\"none\" stroke=\"black\" cx=\"744\" cy=\"-128.5\" rx=\"27\" ry=\"18\"/>\n<text text-anchor=\"middle\" x=\"744\" y=\"-124.8\" font-family=\"Times,serif\" font-size=\"14.00\">*</text>\n</g>\n<!-- 136098733070880&#45;&gt;136098733073520* -->\n<g id=\"edge12\" class=\"edge\">\n<title>136098733070880&#45;&gt;136098733073520*</title>\n<path fill=\"none\" stroke=\"black\" d=\"M679.65,-139.73C689.55,-137.97 699.11,-136.28 707.68,-134.76\"/>\n<polygon fill=\"black\" stroke=\"black\" points=\"708.35,-138.19 717.59,-133 707.13,-131.3 708.35,-138.19\"/>\n</g>\n<!-- 136098733078512 -->\n<g id=\"node2\" class=\"node\">\n<title>136098733078512</title>\n<polygon fill=\"none\" stroke=\"black\" points=\"1129,-165.5 1129,-201.5 1325,-201.5 1325,-165.5 1129,-165.5\"/>\n<text text-anchor=\"middle\" x=\"1139\" y=\"-179.8\" font-family=\"Times,serif\" font-size=\"14.00\"> </text>\n<polyline fill=\"none\" stroke=\"black\" points=\"1149,-165.5 1149,-201.5 \"/>\n<text text-anchor=\"middle\" x=\"1191.5\" y=\"-179.8\" font-family=\"Times,serif\" font-size=\"14.00\">data [[1.00]]</text>\n<polyline fill=\"none\" stroke=\"black\" points=\"1234,-165.5 1234,-201.5 \"/>\n<text text-anchor=\"middle\" x=\"1279.5\" y=\"-179.8\" font-family=\"Times,serif\" font-size=\"14.00\">grad [[&#45;0.10]]</text>\n</g>\n<!-- 136098733078656+ -->\n<g id=\"node7\" class=\"node\">\n<title>136098733078656+</title>\n<ellipse fill=\"none\" stroke=\"black\" cx=\"1388\" cy=\"-155.5\" rx=\"27\" ry=\"18\"/>\n<text text-anchor=\"middle\" x=\"1388\" y=\"-151.8\" font-family=\"Times,serif\" font-size=\"14.00\">+</text>\n</g>\n<!-- 136098733078512&#45;&gt;136098733078656+ -->\n<g id=\"edge16\" class=\"edge\">\n<title>136098733078512&#45;&gt;136098733078656+</title>\n<path fill=\"none\" stroke=\"black\" d=\"M1325.07,-166.41C1334.42,-164.76 1343.43,-163.17 1351.55,-161.74\"/>\n<polygon fill=\"black\" stroke=\"black\" points=\"1352.41,-165.15 1361.65,-159.96 1351.2,-158.25 1352.41,-165.15\"/>\n</g>\n<!-- 136098733077600 -->\n<g id=\"node3\" class=\"node\">\n<title>136098733077600</title>\n<polygon fill=\"none\" stroke=\"black\" points=\"0,-111.5 0,-147.5 361,-147.5 361,-111.5 0,-111.5\"/>\n<text text-anchor=\"middle\" x=\"11.5\" y=\"-125.8\" font-family=\"Times,serif\" font-size=\"14.00\">x</text>\n<polyline fill=\"none\" stroke=\"black\" points=\"23,-111.5 23,-147.5 \"/>\n<text text-anchor=\"middle\" x=\"106\" y=\"-125.8\" font-family=\"Times,serif\" font-size=\"14.00\">data [[2.00], [0.00], [1.00]]</text>\n<polyline fill=\"none\" stroke=\"black\" points=\"189,-111.5 189,-147.5 \"/>\n<text text-anchor=\"middle\" x=\"275\" y=\"-125.8\" font-family=\"Times,serif\" font-size=\"14.00\">grad [[&#45;1.50], [0.50], [3.44]]</text>\n</g>\n<!-- 136098733076400* -->\n<g id=\"node9\" class=\"node\">\n<title>136098733076400*</title>\n<ellipse fill=\"none\" stroke=\"black\" cx=\"424\" cy=\"-101.5\" rx=\"27\" ry=\"18\"/>\n<text text-anchor=\"middle\" x=\"424\" y=\"-97.8\" font-family=\"Times,serif\" font-size=\"14.00\">*</text>\n</g>\n<!-- 136098733077600&#45;&gt;136098733076400* -->\n<g id=\"edge10\" class=\"edge\">\n<title>136098733077600&#45;&gt;136098733076400*</title>\n<path fill=\"none\" stroke=\"black\" d=\"M336.84,-111.49C355.37,-109.34 372.71,-107.33 386.92,-105.68\"/>\n<polygon fill=\"black\" stroke=\"black\" points=\"387.6,-109.13 397.13,-104.5 386.79,-102.17 387.6,-109.13\"/>\n</g>\n<!-- 136098733073520 -->\n<g id=\"node4\" class=\"node\">\n<title>136098733073520</title>\n<polygon fill=\"none\" stroke=\"black\" points=\"809.5,-110.5 809.5,-146.5 1000.5,-146.5 1000.5,-110.5 809.5,-110.5\"/>\n<text text-anchor=\"middle\" x=\"819.5\" y=\"-124.8\" font-family=\"Times,serif\" font-size=\"14.00\"> </text>\n<polyline fill=\"none\" stroke=\"black\" points=\"829.5,-110.5 829.5,-146.5 \"/>\n<text text-anchor=\"middle\" x=\"872\" y=\"-124.8\" font-family=\"Times,serif\" font-size=\"14.00\">data [[1.76]]</text>\n<polyline fill=\"none\" stroke=\"black\" points=\"914.5,-110.5 914.5,-146.5 \"/>\n<text text-anchor=\"middle\" x=\"957.5\" y=\"-124.8\" font-family=\"Times,serif\" font-size=\"14.00\">grad [[0.25]]</text>\n</g>\n<!-- 136098733077936exp -->\n<g id=\"node20\" class=\"node\">\n<title>136098733077936exp</title>\n<ellipse fill=\"none\" stroke=\"black\" cx=\"1066\" cy=\"-128.5\" rx=\"27\" ry=\"18\"/>\n<text text-anchor=\"middle\" x=\"1066\" y=\"-124.8\" font-family=\"Times,serif\" font-size=\"14.00\">exp</text>\n</g>\n<!-- 136098733073520&#45;&gt;136098733077936exp -->\n<g id=\"edge21\" class=\"edge\">\n<title>136098733073520&#45;&gt;136098733077936exp</title>\n<path fill=\"none\" stroke=\"black\" d=\"M1000.79,-128.5C1010.61,-128.5 1020.1,-128.5 1028.65,-128.5\"/>\n<polygon fill=\"black\" stroke=\"black\" points=\"1028.91,-132 1038.91,-128.5 1028.91,-125 1028.91,-132\"/>\n</g>\n<!-- 136098733073520*&#45;&gt;136098733073520 -->\n<g id=\"edge1\" class=\"edge\">\n<title>136098733073520*&#45;&gt;136098733073520</title>\n<path fill=\"none\" stroke=\"black\" d=\"M771.26,-128.5C779.39,-128.5 788.91,-128.5 799.04,-128.5\"/>\n<polygon fill=\"black\" stroke=\"black\" points=\"799.35,-132 809.35,-128.5 799.35,-125 799.35,-132\"/>\n</g>\n<!-- 136098733078656 -->\n<g id=\"node6\" class=\"node\">\n<title>136098733078656</title>\n<polygon fill=\"none\" stroke=\"black\" points=\"1451,-137.5 1451,-173.5 1647,-173.5 1647,-137.5 1451,-137.5\"/>\n<text text-anchor=\"middle\" x=\"1461\" y=\"-151.8\" font-family=\"Times,serif\" font-size=\"14.00\"> </text>\n<polyline fill=\"none\" stroke=\"black\" points=\"1471,-137.5 1471,-173.5 \"/>\n<text text-anchor=\"middle\" x=\"1513.5\" y=\"-151.8\" font-family=\"Times,serif\" font-size=\"14.00\">data [[6.83]]</text>\n<polyline fill=\"none\" stroke=\"black\" points=\"1556,-137.5 1556,-173.5 \"/>\n<text text-anchor=\"middle\" x=\"1601.5\" y=\"-151.8\" font-family=\"Times,serif\" font-size=\"14.00\">grad [[&#45;0.10]]</text>\n</g>\n<!-- 136098733079328**&#45;1 -->\n<g id=\"node12\" class=\"node\">\n<title>136098733079328**&#45;1</title>\n<ellipse fill=\"none\" stroke=\"black\" cx=\"1778.5\" cy=\"-155.5\" rx=\"27\" ry=\"18\"/>\n<text text-anchor=\"middle\" x=\"1778.5\" y=\"-151.8\" font-family=\"Times,serif\" font-size=\"14.00\">**&#45;1</text>\n</g>\n<!-- 136098733078656&#45;&gt;136098733079328**&#45;1 -->\n<g id=\"edge11\" class=\"edge\">\n<title>136098733078656&#45;&gt;136098733079328**&#45;1</title>\n<path fill=\"none\" stroke=\"black\" d=\"M1647.14,-155.5C1680.32,-155.5 1715.43,-155.5 1740.84,-155.5\"/>\n<polygon fill=\"black\" stroke=\"black\" points=\"1741.11,-159 1751.11,-155.5 1741.11,-152 1741.11,-159\"/>\n</g>\n<!-- 136098733078656+&#45;&gt;136098733078656 -->\n<g id=\"edge2\" class=\"edge\">\n<title>136098733078656+&#45;&gt;136098733078656</title>\n<path fill=\"none\" stroke=\"black\" d=\"M1415.26,-155.5C1422.77,-155.5 1431.46,-155.5 1440.72,-155.5\"/>\n<polygon fill=\"black\" stroke=\"black\" points=\"1440.97,-159 1450.97,-155.5 1440.97,-152 1440.97,-159\"/>\n</g>\n<!-- 136098733076400 -->\n<g id=\"node8\" class=\"node\">\n<title>136098733076400</title>\n<polygon fill=\"none\" stroke=\"black\" points=\"487,-83.5 487,-119.5 681,-119.5 681,-83.5 487,-83.5\"/>\n<text text-anchor=\"middle\" x=\"498.5\" y=\"-97.8\" font-family=\"Times,serif\" font-size=\"14.00\">n</text>\n<polyline fill=\"none\" stroke=\"black\" points=\"510,-83.5 510,-119.5 \"/>\n<text text-anchor=\"middle\" x=\"552.5\" y=\"-97.8\" font-family=\"Times,serif\" font-size=\"14.00\">data [[0.88]]</text>\n<polyline fill=\"none\" stroke=\"black\" points=\"595,-83.5 595,-119.5 \"/>\n<text text-anchor=\"middle\" x=\"638\" y=\"-97.8\" font-family=\"Times,serif\" font-size=\"14.00\">grad [[0.50]]</text>\n</g>\n<!-- 136098733076400&#45;&gt;136098733073520* -->\n<g id=\"edge20\" class=\"edge\">\n<title>136098733076400&#45;&gt;136098733073520*</title>\n<path fill=\"none\" stroke=\"black\" d=\"M681.01,-117.91C690.35,-119.5 699.37,-121.04 707.49,-122.43\"/>\n<polygon fill=\"black\" stroke=\"black\" points=\"707.16,-125.93 717.6,-124.16 708.34,-119.03 707.16,-125.93\"/>\n</g>\n<!-- 136098733076400*&#45;&gt;136098733076400 -->\n<g id=\"edge3\" class=\"edge\">\n<title>136098733076400*&#45;&gt;136098733076400</title>\n<path fill=\"none\" stroke=\"black\" d=\"M451.09,-101.5C458.62,-101.5 467.34,-101.5 476.63,-101.5\"/>\n<polygon fill=\"black\" stroke=\"black\" points=\"476.92,-105 486.92,-101.5 476.92,-98 476.92,-105\"/>\n</g>\n<!-- 136098733075680 -->\n<g id=\"node10\" class=\"node\">\n<title>136098733075680</title>\n<polygon fill=\"none\" stroke=\"black\" points=\"17,-56.5 17,-92.5 344,-92.5 344,-56.5 17,-56.5\"/>\n<text text-anchor=\"middle\" x=\"30\" y=\"-70.8\" font-family=\"Times,serif\" font-size=\"14.00\">w</text>\n<polyline fill=\"none\" stroke=\"black\" points=\"43,-56.5 43,-92.5 \"/>\n<text text-anchor=\"middle\" x=\"119\" y=\"-70.8\" font-family=\"Times,serif\" font-size=\"14.00\">data [[&#45;3.00, 1.00, 6.88]]</text>\n<polyline fill=\"none\" stroke=\"black\" points=\"195,-56.5 195,-92.5 \"/>\n<text text-anchor=\"middle\" x=\"269.5\" y=\"-70.8\" font-family=\"Times,serif\" font-size=\"14.00\">grad [[1.00, 0.00, 0.50]]</text>\n</g>\n<!-- 136098733075680&#45;&gt;136098733076400* -->\n<g id=\"edge19\" class=\"edge\">\n<title>136098733075680&#45;&gt;136098733076400*</title>\n<path fill=\"none\" stroke=\"black\" d=\"M342.58,-92.51C359.08,-94.35 374.44,-96.07 387.22,-97.5\"/>\n<polygon fill=\"black\" stroke=\"black\" points=\"386.99,-101 397.32,-98.63 387.77,-94.04 386.99,-101\"/>\n</g>\n<!-- 136098733079328 -->\n<g id=\"node11\" class=\"node\">\n<title>136098733079328</title>\n<polygon fill=\"none\" stroke=\"black\" points=\"1910,-135.5 1910,-171.5 2101,-171.5 2101,-135.5 1910,-135.5\"/>\n<text text-anchor=\"middle\" x=\"1920\" y=\"-149.8\" font-family=\"Times,serif\" font-size=\"14.00\"> </text>\n<polyline fill=\"none\" stroke=\"black\" points=\"1930,-135.5 1930,-171.5 \"/>\n<text text-anchor=\"middle\" x=\"1972.5\" y=\"-149.8\" font-family=\"Times,serif\" font-size=\"14.00\">data [[0.15]]</text>\n<polyline fill=\"none\" stroke=\"black\" points=\"2015,-135.5 2015,-171.5 \"/>\n<text text-anchor=\"middle\" x=\"2058\" y=\"-149.8\" font-family=\"Times,serif\" font-size=\"14.00\">grad [[4.83]]</text>\n</g>\n<!-- 136098733080048* -->\n<g id=\"node22\" class=\"node\">\n<title>136098733080048*</title>\n<ellipse fill=\"none\" stroke=\"black\" cx=\"2164\" cy=\"-127.5\" rx=\"27\" ry=\"18\"/>\n<text text-anchor=\"middle\" x=\"2164\" y=\"-123.8\" font-family=\"Times,serif\" font-size=\"14.00\">*</text>\n</g>\n<!-- 136098733079328&#45;&gt;136098733080048* -->\n<g id=\"edge9\" class=\"edge\">\n<title>136098733079328&#45;&gt;136098733080048*</title>\n<path fill=\"none\" stroke=\"black\" d=\"M2101.15,-137.78C2110.46,-136.23 2119.44,-134.74 2127.54,-133.39\"/>\n<polygon fill=\"black\" stroke=\"black\" points=\"2128.35,-136.81 2137.64,-131.71 2127.2,-129.9 2128.35,-136.81\"/>\n</g>\n<!-- 136098733079328**&#45;1&#45;&gt;136098733079328 -->\n<g id=\"edge4\" class=\"edge\">\n<title>136098733079328**&#45;1&#45;&gt;136098733079328</title>\n<path fill=\"none\" stroke=\"black\" d=\"M1805.75,-155.27C1829.12,-155.06 1864.9,-154.74 1899.69,-154.43\"/>\n<polygon fill=\"black\" stroke=\"black\" points=\"1899.99,-157.93 1909.96,-154.34 1899.93,-150.93 1899.99,-157.93\"/>\n</g>\n<!-- 136098733078848 -->\n<g id=\"node13\" class=\"node\">\n<title>136098733078848</title>\n<polygon fill=\"none\" stroke=\"black\" points=\"807,-55.5 807,-91.5 1003,-91.5 1003,-55.5 807,-55.5\"/>\n<text text-anchor=\"middle\" x=\"817\" y=\"-69.8\" font-family=\"Times,serif\" font-size=\"14.00\"> </text>\n<polyline fill=\"none\" stroke=\"black\" points=\"827,-55.5 827,-91.5 \"/>\n<text text-anchor=\"middle\" x=\"869.5\" y=\"-69.8\" font-family=\"Times,serif\" font-size=\"14.00\">data [[1.00]]</text>\n<polyline fill=\"none\" stroke=\"black\" points=\"912,-55.5 912,-91.5 \"/>\n<text text-anchor=\"middle\" x=\"957.5\" y=\"-69.8\" font-family=\"Times,serif\" font-size=\"14.00\">grad [[&#45;0.15]]</text>\n</g>\n<!-- 136098733077360* -->\n<g id=\"node16\" class=\"node\">\n<title>136098733077360*</title>\n<ellipse fill=\"none\" stroke=\"black\" cx=\"1066\" cy=\"-73.5\" rx=\"27\" ry=\"18\"/>\n<text text-anchor=\"middle\" x=\"1066\" y=\"-69.8\" font-family=\"Times,serif\" font-size=\"14.00\">*</text>\n</g>\n<!-- 136098733078848&#45;&gt;136098733077360* -->\n<g id=\"edge18\" class=\"edge\">\n<title>136098733078848&#45;&gt;136098733077360*</title>\n<path fill=\"none\" stroke=\"black\" d=\"M1003.07,-73.5C1012.05,-73.5 1020.71,-73.5 1028.57,-73.5\"/>\n<polygon fill=\"black\" stroke=\"black\" points=\"1028.75,-77 1038.75,-73.5 1028.75,-70 1028.75,-77\"/>\n</g>\n<!-- 136098733077312 -->\n<g id=\"node14\" class=\"node\">\n<title>136098733077312</title>\n<polygon fill=\"none\" stroke=\"black\" points=\"807.5,-0.5 807.5,-36.5 1002.5,-36.5 1002.5,-0.5 807.5,-0.5\"/>\n<text text-anchor=\"middle\" x=\"817.5\" y=\"-14.8\" font-family=\"Times,serif\" font-size=\"14.00\"> </text>\n<polyline fill=\"none\" stroke=\"black\" points=\"827.5,-0.5 827.5,-36.5 \"/>\n<text text-anchor=\"middle\" x=\"872\" y=\"-14.8\" font-family=\"Times,serif\" font-size=\"14.00\">data [[&#45;1.00]]</text>\n<polyline fill=\"none\" stroke=\"black\" points=\"916.5,-0.5 916.5,-36.5 \"/>\n<text text-anchor=\"middle\" x=\"959.5\" y=\"-14.8\" font-family=\"Times,serif\" font-size=\"14.00\">grad [[0.15]]</text>\n</g>\n<!-- 136098733077312&#45;&gt;136098733077360* -->\n<g id=\"edge15\" class=\"edge\">\n<title>136098733077312&#45;&gt;136098733077360*</title>\n<path fill=\"none\" stroke=\"black\" d=\"M972.89,-36.57C983.05,-39.67 993.35,-43.02 1003,-46.5 1013.27,-50.2 1024.26,-54.78 1034.1,-59.1\"/>\n<polygon fill=\"black\" stroke=\"black\" points=\"1032.91,-62.41 1043.47,-63.3 1035.78,-56.02 1032.91,-62.41\"/>\n</g>\n<!-- 136098733077360 -->\n<g id=\"node15\" class=\"node\">\n<title>136098733077360</title>\n<polygon fill=\"none\" stroke=\"black\" points=\"1129.5,-55.5 1129.5,-91.5 1324.5,-91.5 1324.5,-55.5 1129.5,-55.5\"/>\n<text text-anchor=\"middle\" x=\"1139.5\" y=\"-69.8\" font-family=\"Times,serif\" font-size=\"14.00\"> </text>\n<polyline fill=\"none\" stroke=\"black\" points=\"1149.5,-55.5 1149.5,-91.5 \"/>\n<text text-anchor=\"middle\" x=\"1194\" y=\"-69.8\" font-family=\"Times,serif\" font-size=\"14.00\">data [[&#45;1.00]]</text>\n<polyline fill=\"none\" stroke=\"black\" points=\"1238.5,-55.5 1238.5,-91.5 \"/>\n<text text-anchor=\"middle\" x=\"1281.5\" y=\"-69.8\" font-family=\"Times,serif\" font-size=\"14.00\">grad [[0.15]]</text>\n</g>\n<!-- 136098733077888+ -->\n<g id=\"node18\" class=\"node\">\n<title>136098733077888+</title>\n<ellipse fill=\"none\" stroke=\"black\" cx=\"1388\" cy=\"-100.5\" rx=\"27\" ry=\"18\"/>\n<text text-anchor=\"middle\" x=\"1388\" y=\"-96.8\" font-family=\"Times,serif\" font-size=\"14.00\">+</text>\n</g>\n<!-- 136098733077360&#45;&gt;136098733077888+ -->\n<g id=\"edge14\" class=\"edge\">\n<title>136098733077360&#45;&gt;136098733077888+</title>\n<path fill=\"none\" stroke=\"black\" d=\"M1324.62,-89.91C1334.22,-91.54 1343.47,-93.11 1351.77,-94.52\"/>\n<polygon fill=\"black\" stroke=\"black\" points=\"1351.3,-97.99 1361.74,-96.21 1352.47,-91.09 1351.3,-97.99\"/>\n</g>\n<!-- 136098733077360*&#45;&gt;136098733077360 -->\n<g id=\"edge5\" class=\"edge\">\n<title>136098733077360*&#45;&gt;136098733077360</title>\n<path fill=\"none\" stroke=\"black\" d=\"M1093.26,-73.5C1100.91,-73.5 1109.79,-73.5 1119.26,-73.5\"/>\n<polygon fill=\"black\" stroke=\"black\" points=\"1119.31,-77 1129.31,-73.5 1119.31,-70 1119.31,-77\"/>\n</g>\n<!-- 136098733077888 -->\n<g id=\"node17\" class=\"node\">\n<title>136098733077888</title>\n<polygon fill=\"none\" stroke=\"black\" points=\"1683,-82.5 1683,-118.5 1874,-118.5 1874,-82.5 1683,-82.5\"/>\n<text text-anchor=\"middle\" x=\"1693\" y=\"-96.8\" font-family=\"Times,serif\" font-size=\"14.00\"> </text>\n<polyline fill=\"none\" stroke=\"black\" points=\"1703,-82.5 1703,-118.5 \"/>\n<text text-anchor=\"middle\" x=\"1745.5\" y=\"-96.8\" font-family=\"Times,serif\" font-size=\"14.00\">data [[4.83]]</text>\n<polyline fill=\"none\" stroke=\"black\" points=\"1788,-82.5 1788,-118.5 \"/>\n<text text-anchor=\"middle\" x=\"1831\" y=\"-96.8\" font-family=\"Times,serif\" font-size=\"14.00\">grad [[0.15]]</text>\n</g>\n<!-- 136098733077888&#45;&gt;136098733080048* -->\n<g id=\"edge17\" class=\"edge\">\n<title>136098733077888&#45;&gt;136098733080048*</title>\n<path fill=\"none\" stroke=\"black\" d=\"M1874.3,-107.17C1955.94,-112.92 2069.41,-120.91 2126.75,-124.95\"/>\n<polygon fill=\"black\" stroke=\"black\" points=\"2126.56,-128.44 2136.78,-125.65 2127.05,-121.46 2126.56,-128.44\"/>\n</g>\n<!-- 136098733077888+&#45;&gt;136098733077888 -->\n<g id=\"edge6\" class=\"edge\">\n<title>136098733077888+&#45;&gt;136098733077888</title>\n<path fill=\"none\" stroke=\"black\" d=\"M1415.09,-100.5C1466.89,-100.5 1585.22,-100.5 1672.65,-100.5\"/>\n<polygon fill=\"black\" stroke=\"black\" points=\"1672.89,-104 1682.89,-100.5 1672.89,-97 1672.89,-104\"/>\n</g>\n<!-- 136098733077936 -->\n<g id=\"node19\" class=\"node\">\n<title>136098733077936</title>\n<polygon fill=\"none\" stroke=\"black\" points=\"1130,-110.5 1130,-146.5 1324,-146.5 1324,-110.5 1130,-110.5\"/>\n<text text-anchor=\"middle\" x=\"1141.5\" y=\"-124.8\" font-family=\"Times,serif\" font-size=\"14.00\">e</text>\n<polyline fill=\"none\" stroke=\"black\" points=\"1153,-110.5 1153,-146.5 \"/>\n<text text-anchor=\"middle\" x=\"1195.5\" y=\"-124.8\" font-family=\"Times,serif\" font-size=\"14.00\">data [[5.83]]</text>\n<polyline fill=\"none\" stroke=\"black\" points=\"1238,-110.5 1238,-146.5 \"/>\n<text text-anchor=\"middle\" x=\"1281\" y=\"-124.8\" font-family=\"Times,serif\" font-size=\"14.00\">grad [[0.04]]</text>\n</g>\n<!-- 136098733077936&#45;&gt;136098733078656+ -->\n<g id=\"edge13\" class=\"edge\">\n<title>136098733077936&#45;&gt;136098733078656+</title>\n<path fill=\"none\" stroke=\"black\" d=\"M1324.16,-144.83C1333.82,-146.47 1343.13,-148.05 1351.49,-149.47\"/>\n<polygon fill=\"black\" stroke=\"black\" points=\"1351.09,-152.95 1361.54,-151.18 1352.26,-146.05 1351.09,-152.95\"/>\n</g>\n<!-- 136098733077936&#45;&gt;136098733077888+ -->\n<g id=\"edge22\" class=\"edge\">\n<title>136098733077936&#45;&gt;136098733077888+</title>\n<path fill=\"none\" stroke=\"black\" d=\"M1324.16,-111.57C1333.82,-109.87 1343.13,-108.23 1351.49,-106.75\"/>\n<polygon fill=\"black\" stroke=\"black\" points=\"1352.3,-110.17 1361.54,-104.98 1351.08,-103.27 1352.3,-110.17\"/>\n</g>\n<!-- 136098733077936exp&#45;&gt;136098733077936 -->\n<g id=\"edge7\" class=\"edge\">\n<title>136098733077936exp&#45;&gt;136098733077936</title>\n<path fill=\"none\" stroke=\"black\" d=\"M1093.26,-128.5C1101.05,-128.5 1110.1,-128.5 1119.75,-128.5\"/>\n<polygon fill=\"black\" stroke=\"black\" points=\"1119.99,-132 1129.99,-128.5 1119.99,-125 1119.99,-132\"/>\n</g>\n<!-- 136098733080048 -->\n<g id=\"node21\" class=\"node\">\n<title>136098733080048</title>\n<polygon fill=\"none\" stroke=\"black\" points=\"2227,-109.5 2227,-145.5 2421,-145.5 2421,-109.5 2227,-109.5\"/>\n<text text-anchor=\"middle\" x=\"2238.5\" y=\"-123.8\" font-family=\"Times,serif\" font-size=\"14.00\">o</text>\n<polyline fill=\"none\" stroke=\"black\" points=\"2250,-109.5 2250,-145.5 \"/>\n<text text-anchor=\"middle\" x=\"2292.5\" y=\"-123.8\" font-family=\"Times,serif\" font-size=\"14.00\">data [[0.71]]</text>\n<polyline fill=\"none\" stroke=\"black\" points=\"2335,-109.5 2335,-145.5 \"/>\n<text text-anchor=\"middle\" x=\"2378\" y=\"-123.8\" font-family=\"Times,serif\" font-size=\"14.00\">grad [[1.00]]</text>\n</g>\n<!-- 136098733080048*&#45;&gt;136098733080048 -->\n<g id=\"edge8\" class=\"edge\">\n<title>136098733080048*&#45;&gt;136098733080048</title>\n<path fill=\"none\" stroke=\"black\" d=\"M2191.09,-127.5C2198.62,-127.5 2207.34,-127.5 2216.63,-127.5\"/>\n<polygon fill=\"black\" stroke=\"black\" points=\"2216.92,-131 2226.92,-127.5 2216.92,-124 2216.92,-131\"/>\n</g>\n</g>\n</svg>\n",
            "text/plain": [
              "<graphviz.graphs.Digraph at 0x7bc7f4a3b640>"
            ]
          },
          "metadata": {},
          "execution_count": 308
        }
      ]
    },
    {
      "cell_type": "code",
      "source": [
        "x1 = Tensor([[2.0]])\n",
        "x2 = Tensor([[0.0]])\n",
        "w1 = Tensor([[-3.0]])\n",
        "w2 = Tensor([[1.0]])\n",
        "b = Tensor([[6.8813735870195432]])\n",
        "n = x1*w1 + x2*w2 + b\n",
        "o = n.tanh()\n",
        "\n",
        "print(o.data)\n",
        "o.backward()\n",
        "\n",
        "print('---')\n",
        "print('x2', x2.grad)\n",
        "print('w2', w2.grad)\n",
        "print('x1', x1.grad)\n",
        "print('w1', w1.grad)"
      ],
      "metadata": {
        "colab": {
          "base_uri": "https://localhost:8080/"
        },
        "id": "OTQ38VdHp6ER",
        "outputId": "d5118db8-e1d9-497a-f451-984d0ff35394"
      },
      "execution_count": 309,
      "outputs": [
        {
          "output_type": "stream",
          "name": "stdout",
          "text": [
            "[[0.7071067811865476]]\n",
            "---\n",
            "x2 [[0.4999999999999999]]\n",
            "w2 [[0.0]]\n",
            "x1 [[-1.4999999999999996]]\n",
            "w1 [[0.9999999999999998]]\n"
          ]
        }
      ]
    },
    {
      "cell_type": "code",
      "source": [
        "class Layer2:\n",
        "\n",
        "  def __init__(self, nin, nout, label=None):\n",
        "    label = label if label is not None else f\"Layer {nin} to {nout}\"\n",
        "    self.w = Tensor([[random.uniform(-1,1) for _ in range(nin + 1)] for _ in range(nout)], label=label)\n",
        "\n",
        "  def __call__(self, x):\n",
        "    bias = Tensor([[1]])\n",
        "    x_with_bias = x.concat(bias, axis=0)\n",
        "    outs = self.w * x_with_bias\n",
        "    outs = outs.tanh()\n",
        "    return outs\n",
        "\n",
        "  def parameters(self):\n",
        "    return [self.w]\n",
        "\n",
        "class MLP2:\n",
        "\n",
        "  def __init__(self, nin, nouts):\n",
        "    sz = [nin] + nouts\n",
        "    self.layers = [Layer2(sz[i], sz[i+1]) for i in range(len(nouts))]\n",
        "\n",
        "  def __call__(self, x):\n",
        "    for layer in self.layers:\n",
        "      x = layer(x)\n",
        "    return x\n",
        "\n",
        "  def parameters(self):\n",
        "    return [p for layer in self.layers for p in layer.parameters()]\n",
        "\n",
        "  @classmethod\n",
        "  def from_mlp(cls, mlp):\n",
        "    # Create an MLP2 instance without initializing layers\n",
        "    instance = cls(nin=0, nouts=[])\n",
        "    instance.layers = []  # Initialize layers as an empty list\n",
        "\n",
        "    for mlp_layer in mlp.layers:\n",
        "      nin = len(mlp_layer.neurons[0].w)  # Number of inputs is the number of weights in a neuron\n",
        "      nout = len(mlp_layer.neurons)  # Number of outputs is the number of neurons\n",
        "      # Initialize the weights matrix for Layer2 with zeros\n",
        "      weights = [[0 for _ in range(nin + 1)] for _ in range(nout)]\n",
        "\n",
        "      for i, neuron in enumerate(mlp_layer.neurons):\n",
        "        for j, w in enumerate(neuron.w):\n",
        "          weights[i][j] = w.data  # Assign weight\n",
        "        weights[i][-1] = neuron.b.data  # Assign bias to the last column\n",
        "\n",
        "      # Create Layer2 with the constructed weights matrix\n",
        "      layer2 = Layer2(nin, nout)\n",
        "      layer2.w = Tensor(weights)  # Assuming Tensor can be directly assigned\n",
        "      layer2.w.label = f\"Layer {nin} to {nout}\"\n",
        "      instance.layers.append(layer2)\n",
        "\n",
        "    return instance"
      ],
      "metadata": {
        "id": "vBnFQ-pyql58"
      },
      "execution_count": 310,
      "outputs": []
    },
    {
      "cell_type": "code",
      "source": [
        "n = MLP(3, [4, 4, 1])\n",
        "n2 = MLP2.from_mlp(n)"
      ],
      "metadata": {
        "id": "Pi9MVfK49D_D"
      },
      "execution_count": 311,
      "outputs": []
    },
    {
      "cell_type": "code",
      "source": [
        "x = [2.0, 3.0, -1.0]\n",
        "n(x)"
      ],
      "metadata": {
        "colab": {
          "base_uri": "https://localhost:8080/"
        },
        "id": "kePvw_3n9OAY",
        "outputId": "cf02492d-3880-480f-d9be-12d4a17fba07"
      },
      "execution_count": 312,
      "outputs": [
        {
          "output_type": "execute_result",
          "data": {
            "text/plain": [
              "Value(data=0.6913070002210265)"
            ]
          },
          "metadata": {},
          "execution_count": 312
        }
      ]
    },
    {
      "cell_type": "code",
      "source": [
        "x2 = Tensor([[2.0], [3.0], [-1.0]])\n",
        "n2(x2)"
      ],
      "metadata": {
        "colab": {
          "base_uri": "https://localhost:8080/"
        },
        "id": "sL2sx0yM9UcS",
        "outputId": "1419f326-e594-496c-eb6f-fe037c4fbdfb"
      },
      "execution_count": 313,
      "outputs": [
        {
          "output_type": "execute_result",
          "data": {
            "text/plain": [
              "Tensor(data=[[0.6913070002210265]])"
            ]
          },
          "metadata": {},
          "execution_count": 313
        }
      ]
    },
    {
      "cell_type": "code",
      "source": [
        "xs = [\n",
        "  [2.0, 3.0, -1.0],\n",
        "  [3.0, -1.0, 0.5],\n",
        "  [0.5, 1.0, 1.0],\n",
        "  [1.0, 1.0, -1.0],\n",
        "]\n",
        "ys = [1.0, -1.0, -1.0, 1.0] # desired targets\n",
        "start = time.time()\n",
        "for k in range(20):\n",
        "\n",
        "  # forward pass\n",
        "  ypred = [n(x) for x in xs]\n",
        "  loss = sum((yout - ygt)**2 for ygt, yout in zip(ys, ypred))\n",
        "\n",
        "  # backward pass\n",
        "  for p in n.parameters():\n",
        "    p.grad = 0.0\n",
        "  loss.backward()\n",
        "\n",
        "  # update\n",
        "  for p in n.parameters():\n",
        "    p.data += -0.1 * p.grad\n",
        "\n",
        "  print(k, loss.data)\n",
        "print(f\"Took: {time.time() - start} seconds\")"
      ],
      "metadata": {
        "colab": {
          "base_uri": "https://localhost:8080/"
        },
        "id": "aoifldhu96pY",
        "outputId": "28cbda57-43c1-440d-e00d-6d5b6f181e91"
      },
      "execution_count": 324,
      "outputs": [
        {
          "output_type": "stream",
          "name": "stdout",
          "text": [
            "0 0.01419055627061579\n",
            "1 0.013834028565026728\n",
            "2 0.013494198866752086\n",
            "3 0.01316992918376037\n",
            "4 0.012860183178161464\n",
            "5 0.012564014920218053\n",
            "6 0.012280559129641905\n",
            "7 0.01200902267479572\n",
            "8 0.011748677140884428\n",
            "9 0.011498852310653326\n",
            "10 0.011258930427279323\n",
            "11 0.011028341130389883\n",
            "12 0.010806556973494719\n",
            "13 0.01059308944536539\n",
            "14 0.010387485429658297\n",
            "15 0.010189324046834028\n",
            "16 0.009998213830553817\n",
            "17 0.009813790197539704\n",
            "18 0.009635713175601739\n",
            "19 0.009463665359360711\n",
            "Took: 0.05032753944396973 seconds\n"
          ]
        }
      ]
    },
    {
      "cell_type": "code",
      "source": [
        "xs2 = [\n",
        "  [[2.0], [3.0], [-1.0]],\n",
        "  [[3.0], [-1.0], [0.5]],\n",
        "  [[0.5], [1.0], [1.0]],\n",
        "  [[1.0], [1.0], [-1.0]],\n",
        "]\n",
        "xs2 = [Tensor(x) for x in xs2]\n",
        "ys2 = [Tensor([[1.0]]), Tensor([[-1.0]]), Tensor([[-1.0]]), Tensor([[1.0]])] # desired targets\n",
        "\n",
        "for k in range(20):\n",
        "\n",
        "  # forward pass\n",
        "  ypred = [n2(x) for x in xs2]\n",
        "  loss = sum([(yout - ygt)**2 for ygt, yout in zip(ys2, ypred)], Tensor([[0.0]]))\n",
        "\n",
        "  # backward pass\n",
        "  for p in n2.parameters():\n",
        "    p.grad = zeros_matrix_like(p.data)\n",
        "  loss.backward()\n",
        "\n",
        "  # update\n",
        "  for p in n2.parameters():\n",
        "    p.data = matrix_add(matrix_scalar_mul(-0.1, p.grad), p.data)\n",
        "\n",
        "  print(k, loss.data)\n",
        "print(f\"Took: {time.time() - start} seconds\")"
      ],
      "metadata": {
        "colab": {
          "base_uri": "https://localhost:8080/"
        },
        "id": "PLPouqrhwLNZ",
        "outputId": "4d57de45-75dc-4434-a252-d9d2e37ec298"
      },
      "execution_count": 325,
      "outputs": [
        {
          "output_type": "stream",
          "name": "stdout",
          "text": [
            "0 [[0.014190556270615778]]\n",
            "1 [[0.013834028565026713]]\n",
            "2 [[0.013494198866752086]]\n",
            "3 [[0.013169929183760353]]\n",
            "4 [[0.012860183178161448]]\n",
            "5 [[0.012564014920218039]]\n",
            "6 [[0.012280559129641891]]\n",
            "7 [[0.01200902267479572]]\n",
            "8 [[0.011748677140884428]]\n",
            "9 [[0.011498852310653326]]\n",
            "10 [[0.011258930427279294]]\n",
            "11 [[0.01102834113038987]]\n",
            "12 [[0.010806556973494719]]\n",
            "13 [[0.01059308944536539]]\n",
            "14 [[0.010387485429658297]]\n",
            "15 [[0.01018932404683402]]\n",
            "16 [[0.009998213830553807]]\n",
            "17 [[0.009813790197539704]]\n",
            "18 [[0.009635713175601739]]\n",
            "19 [[0.0094636653593607]]\n",
            "Took: 0.4715867042541504 seconds\n"
          ]
        }
      ]
    },
    {
      "cell_type": "code",
      "source": [
        "xs = Tensor(xs)\n",
        "xs.shape"
      ],
      "metadata": {
        "colab": {
          "base_uri": "https://localhost:8080/"
        },
        "id": "eBslMj9FYbbU",
        "outputId": "de632e1b-1e75-41cd-a883-cb646eea0c6e"
      },
      "execution_count": 326,
      "outputs": [
        {
          "output_type": "execute_result",
          "data": {
            "text/plain": [
              "(4, 3)"
            ]
          },
          "metadata": {},
          "execution_count": 326
        }
      ]
    },
    {
      "cell_type": "code",
      "source": [
        "xs.T.shape"
      ],
      "metadata": {
        "colab": {
          "base_uri": "https://localhost:8080/"
        },
        "id": "Ev_C2y3tZavk",
        "outputId": "c09af3ab-6e84-498d-844a-cef1d9c07463"
      },
      "execution_count": 328,
      "outputs": [
        {
          "output_type": "execute_result",
          "data": {
            "text/plain": [
              "(3, 4)"
            ]
          },
          "metadata": {},
          "execution_count": 328
        }
      ]
    },
    {
      "cell_type": "code",
      "source": [],
      "metadata": {
        "id": "jGUAe9sfa7cR"
      },
      "execution_count": null,
      "outputs": []
    }
  ],
  "metadata": {
    "kernelspec": {
      "display_name": "Python 3",
      "name": "python3"
    },
    "language_info": {
      "codemirror_mode": {
        "name": "ipython",
        "version": 3
      },
      "file_extension": ".py",
      "mimetype": "text/x-python",
      "name": "python",
      "nbconvert_exporter": "python",
      "pygments_lexer": "ipython3",
      "version": "3.8.5"
    },
    "colab": {
      "provenance": [],
      "gpuType": "T4"
    },
    "accelerator": "GPU"
  },
  "nbformat": 4,
  "nbformat_minor": 0
}